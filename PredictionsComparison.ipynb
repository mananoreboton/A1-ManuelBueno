{
 "cells": [
  {
   "cell_type": "markdown",
   "id": "00f663d3-74aa-48bf-b79c-24f3e4a6ff5e",
   "metadata": {},
   "source": [
    "## Select and analysis dataset"
   ]
  },
  {
   "cell_type": "markdown",
   "id": "38a47ea4-2c63-4128-b5fd-8e3b184dd56e",
   "metadata": {},
   "source": [
    "First, we call PreprocessData.select_and_analyze_dataset() to prepare the input dataset and save the train and test data to files."
   ]
  },
  {
   "cell_type": "code",
   "execution_count": 1,
   "id": "8e0eaa87-096f-4a30-b641-a9b98111760b",
   "metadata": {},
   "outputs": [
    {
     "name": "stdout",
     "output_type": "stream",
     "text": [
      "PreprocessData initialized.\n",
      "Reading data from ./data/kc_house_data.csv...\n",
      "Truncating data randomly to 2000 rows\n",
      "Selecting this columns from the data: ['date', 'bedrooms', 'bathrooms', 'sqft_living', 'sqft_lot', 'floors', 'waterfront', 'view', 'condition', 'grade', 'yr_built', 'lat', 'long', 'price']\n",
      "Removing missing values from columns: ['date', 'bedrooms', 'bathrooms', 'sqft_living', 'sqft_lot', 'floors', 'waterfront', 'view', 'condition', 'grade', 'yr_built', 'lat', 'long', 'price']\n",
      "Removing outliers values from columns: []\n",
      "Splitting data: train_data (1600) and test_data (400)\n",
      "Creating ColumnTransformer\n",
      "Fit train_data\n",
      "Transforming train_data and test_data\n",
      "Train matrix saved to ./data/transformed_train_matrix.csv\n",
      "Test matrix saved to ./data/transformed_test_matrix.csv\n",
      "Transformer saved to ./data/transformer.pkl\n",
      "Executed all subtasks of select and analyze dataset...\n"
     ]
    }
   ],
   "source": [
    "from PreprocessData import PreprocessData\n",
    "preprocessData = PreprocessData()\n",
    "preprocessData.select_and_analyze_dataset()"
   ]
  },
  {
   "cell_type": "markdown",
   "id": "de66ef60-367a-4c39-92d7-8ec1f31a5b52",
   "metadata": {},
   "source": [
    "## Hyperparameter comparison and selection"
   ]
  },
  {
   "cell_type": "markdown",
   "id": "a1cf4cad-48d8-49be-bf9b-ffc0b941adcf",
   "metadata": {},
   "source": [
    "We will explore some of the space of hyperparameters, trying different combinations and \n",
    "evaluating the quality of the result of the prediction obtained using them.\n",
    "\n",
    "For that, we load the hyperparameter combinations and the transformed train dataset from files."
   ]
  },
  {
   "cell_type": "code",
   "execution_count": 2,
   "id": "64a94480-6bd7-457f-a9ed-02dc1bfc6644",
   "metadata": {},
   "outputs": [
    {
     "name": "stdout",
     "output_type": "stream",
     "text": [
      "   Number of Layers  Layer Structure  Num Epochs  Learning Rate  Momentum  \\\n",
      "0                 4  [22, 64, 32, 1]         150         0.0005      0.95   \n",
      "1                 2          [22, 1]          80         0.0020      0.85   \n",
      "\n",
      "  Activation Function  \n",
      "0                tanh  \n",
      "1             sigmoid  \n"
     ]
    }
   ],
   "source": [
    "import pandas as pd\n",
    "hyperparameters = pd.read_csv(\"data/neural_network_parameters.csv\")\n",
    "print(hyperparameters)"
   ]
  },
  {
   "cell_type": "code",
   "execution_count": 3,
   "id": "96718adb-05c5-4f52-90d4-ffdd2e58dd2d",
   "metadata": {},
   "outputs": [
    {
     "name": "stdout",
     "output_type": "stream",
     "text": [
      "[[0.30319149 0.375      0.21875    0.10521739 0.00652308 1.\n",
      "  0.         0.         0.         0.         0.         0.\n",
      "  1.         0.         0.         0.         0.         0.5\n",
      "  0.4        0.57391304 0.65979557 0.2078922 ]]\n",
      "[0.04393443]\n"
     ]
    }
   ],
   "source": [
    "X_in, y_in = preprocessData.read_transformed_data_from_file()\n",
    "print(X_in[:1])\n",
    "print(y_in[:1])"
   ]
  },
  {
   "cell_type": "markdown",
   "id": "48a9edca-c4c4-4d96-a128-97f983757f72",
   "metadata": {},
   "source": [
    "For each iteration over the combinations: \n",
    "- we create a new instance of the NeuralNet with the hyperparameters,\n",
    "- call the NeuralNet.fit() function with Y_in (instances) and y_in (ground truth target values) to train our neuronal network,\n",
    "- call the NeuralNet.predict() function to obtain the estimated target values (y)."
   ]
  },
  {
   "cell_type": "code",
   "execution_count": 4,
   "id": "470f1a91-e12a-4a2f-bdc4-125eff03a4df",
   "metadata": {},
   "outputs": [
    {
     "name": "stdout",
     "output_type": "stream",
     "text": [
      "--- Combination 0 ---\n",
      "NeuralNet initialized with self.L = '4', self.n = '[22, 64, 32, 1]', self.n_epochs = '150', self.learning_rate = '0.0005', self.momentum = '0.95', self.fact = 'tanh', self.validation_split = '0.2'\n",
      "Executing fit(X, y)\n",
      "Executing predict(X)\n",
      "Executing loss_epochs()\n",
      "--- Combination 1 ---\n",
      "NeuralNet initialized with self.L = '2', self.n = '[22, 1]', self.n_epochs = '80', self.learning_rate = '0.002', self.momentum = '0.85', self.fact = 'sigmoid', self.validation_split = '0.2'\n",
      "Executing fit(X, y)\n",
      "Executing predict(X)\n",
      "Executing loss_epochs()\n"
     ]
    }
   ],
   "source": [
    "from NeuralNet import NeuralNet\n",
    "\n",
    "neural_net_result_params = {}\n",
    "for i, params in hyperparameters.iterrows():\n",
    "    print(f\"--- Combination {i} ---\")\n",
    "    neural_net = NeuralNet(\n",
    "        L = params[\"Number of Layers\"],\n",
    "        n = eval(params[\"Layer Structure\"]),  # Convert string to list\n",
    "        n_epochs = params[\"Num Epochs\"],\n",
    "        learning_rate = params[\"Learning Rate\"],\n",
    "        momentum = params[\"Momentum\"],\n",
    "        activation_function = params[\"Activation Function\"],\n",
    "        validation_split = 0.2\n",
    "    )\n",
    "\n",
    "    neural_net.fit(X_in, y_in)\n",
    "    y_pred = neural_net.predict(X_in)\n",
    "    epoch_loss = neural_net.loss_epochs()\n",
    "\n",
    "    neural_net_result_params[i] = {\n",
    "        \"Combination\": i,\n",
    "        \"Hyperparameters\": params.to_dict(),\n",
    "        \"Y_pred\": y_pred,\n",
    "        \"Epoch_loss\": epoch_loss\n",
    "    }"
   ]
  },
  {
   "cell_type": "markdown",
   "id": "2c0a3565-e8de-450b-aa61-9c43f248119e",
   "metadata": {},
   "source": [
    "neural_net_result_params is a dictionary that contains the info about each combinations of hyperparameter and the result of their predictions. For example we will show the contain of the first element (0):"
   ]
  },
  {
   "cell_type": "code",
   "execution_count": 10,
   "id": "ea39a415-dd38-4a59-996b-2ea0ed91adb2",
   "metadata": {},
   "outputs": [
    {
     "name": "stdout",
     "output_type": "stream",
     "text": [
      "{'Combination': 0, 'Hyperparameters': {'Number of Layers': 4, 'Layer Structure': '[22, 64, 32, 1]', 'Num Epochs': 150, 'Learning Rate': 0.0005, 'Momentum': 0.95, 'Activation Function': 'tanh'}, 'Y_pred': array([[0.05231699],\n",
      "       [0.07540787],\n",
      "       [0.12433636],\n",
      "       ...,\n",
      "       [0.05068566],\n",
      "       [0.28153476],\n",
      "       [0.02944044]]), 'Epoch_loss': (array([0.21527877, 0.1206834 , 0.0643453 , 0.05081552, 0.04446607,\n",
      "       0.04173823, 0.03972817, 0.03535786, 0.03734698, 0.03331559,\n",
      "       0.03043819, 0.02790965, 0.02591985, 0.02347408, 0.02205682,\n",
      "       0.02077442, 0.01924171, 0.02053125, 0.01780949, 0.01626487,\n",
      "       0.0167151 , 0.01551552, 0.01537815, 0.0130608 , 0.01215309,\n",
      "       0.01217955, 0.01123702, 0.01075445, 0.01004797, 0.01061427,\n",
      "       0.00979725, 0.00943311, 0.00972774, 0.00926529, 0.0084988 ,\n",
      "       0.00852513, 0.00930265, 0.00795946, 0.00763132, 0.00774085,\n",
      "       0.00782534, 0.00846154, 0.00727647, 0.00794168, 0.00758649,\n",
      "       0.0070184 , 0.00683956, 0.00773501, 0.00680446, 0.00710981,\n",
      "       0.0065809 , 0.00682106, 0.0068143 , 0.00637479, 0.00642803,\n",
      "       0.00630357, 0.00633181, 0.00635235, 0.00621766, 0.00629032,\n",
      "       0.00620624, 0.00678601, 0.00589595, 0.00663326, 0.00606233,\n",
      "       0.0063338 , 0.00592865, 0.00575306, 0.00599126, 0.00570057,\n",
      "       0.00552299, 0.00551312, 0.00565908, 0.00545776, 0.0058012 ,\n",
      "       0.00595167, 0.00552057, 0.005278  , 0.00530203, 0.00546085,\n",
      "       0.00522557, 0.00522118, 0.00519147, 0.00510105, 0.00540007,\n",
      "       0.00507638, 0.00509424, 0.00512612, 0.00537976, 0.00523082,\n",
      "       0.00645712, 0.00503924, 0.00498546, 0.00495279, 0.00543626,\n",
      "       0.00540903, 0.0053352 , 0.00508318, 0.00483116, 0.00499177,\n",
      "       0.00492617, 0.0051304 , 0.00509621, 0.00475718, 0.00477312,\n",
      "       0.00475806, 0.00472863, 0.00489994, 0.00472382, 0.0051353 ,\n",
      "       0.00464746, 0.00465541, 0.00466423, 0.00477678, 0.00476027,\n",
      "       0.0046007 , 0.00465512, 0.00476021, 0.00457253, 0.00457422,\n",
      "       0.00469953, 0.00464126, 0.00501782, 0.00462193, 0.00458295,\n",
      "       0.00451151, 0.00481688, 0.00457214, 0.00460361, 0.00464871,\n",
      "       0.00470946, 0.00452395, 0.00451979, 0.00465158, 0.00483316,\n",
      "       0.00476585, 0.00451101, 0.00464449, 0.00454394, 0.00448733,\n",
      "       0.00442965, 0.00440053, 0.00446665, 0.00496171, 0.00448838,\n",
      "       0.00442766, 0.00438934, 0.00571632, 0.00439881, 0.0044355 ]), array([0.23246209, 0.13996761, 0.08584519, 0.07131268, 0.06352639,\n",
      "       0.05700507, 0.05520221, 0.04696513, 0.04782227, 0.04678286,\n",
      "       0.0402214 , 0.03850119, 0.03723913, 0.03246598, 0.03231764,\n",
      "       0.0303405 , 0.02818328, 0.028941  , 0.02684202, 0.02695201,\n",
      "       0.02525749, 0.02487135, 0.02302762, 0.0222715 , 0.02186228,\n",
      "       0.02088298, 0.02069099, 0.01921467, 0.01856805, 0.01884677,\n",
      "       0.01788754, 0.01707879, 0.01769627, 0.01600496, 0.01559419,\n",
      "       0.01549289, 0.01670533, 0.01551832, 0.01547584, 0.0149309 ,\n",
      "       0.01486487, 0.01509521, 0.01399877, 0.01450354, 0.01453622,\n",
      "       0.01364067, 0.01337637, 0.01414434, 0.01324595, 0.01354519,\n",
      "       0.01303807, 0.01300245, 0.01325581, 0.01292633, 0.01284903,\n",
      "       0.01253779, 0.01221245, 0.01248256, 0.01215488, 0.01178804,\n",
      "       0.01188595, 0.01257834, 0.01182449, 0.0123782 , 0.01140705,\n",
      "       0.01163705, 0.01126241, 0.01105599, 0.01114937, 0.0108836 ,\n",
      "       0.01062856, 0.0103705 , 0.01066822, 0.01033089, 0.01068084,\n",
      "       0.01086745, 0.01010065, 0.00993089, 0.00980617, 0.01007597,\n",
      "       0.00998134, 0.00987822, 0.00973772, 0.00981114, 0.01021437,\n",
      "       0.00974495, 0.00967913, 0.00968792, 0.01013721, 0.0097493 ,\n",
      "       0.01067822, 0.00942102, 0.00940711, 0.00934869, 0.00946872,\n",
      "       0.0092714 , 0.00912257, 0.00890259, 0.00880171, 0.00869757,\n",
      "       0.00880725, 0.00883914, 0.00873399, 0.00839205, 0.00844528,\n",
      "       0.00837037, 0.00827939, 0.00839355, 0.00815438, 0.00870309,\n",
      "       0.00800844, 0.00785619, 0.00772323, 0.00774668, 0.00781546,\n",
      "       0.00762669, 0.0077078 , 0.0077893 , 0.00749825, 0.00748417,\n",
      "       0.00730492, 0.00742213, 0.00756426, 0.00721974, 0.0072362 ,\n",
      "       0.0070782 , 0.00718304, 0.00694999, 0.0069502 , 0.00700784,\n",
      "       0.00710071, 0.00673264, 0.00679804, 0.00693934, 0.00698366,\n",
      "       0.00707447, 0.00661648, 0.00683884, 0.00663931, 0.00672408,\n",
      "       0.00655321, 0.00644484, 0.00655718, 0.00690777, 0.00648962,\n",
      "       0.00655365, 0.00637977, 0.00783462, 0.00634023, 0.0063164 ])), 'MSE': np.float64(0.004811684208189771), 'MAE': np.float64(0.02839614840023632), 'MAPE': array([0.61759257])}\n"
     ]
    }
   ],
   "source": [
    "print(neural_net_result_params[0])"
   ]
  },
  {
   "cell_type": "markdown",
   "id": "47fe3dcf-86eb-4510-9699-3dae78498f8a",
   "metadata": {},
   "source": [
    "Now we can calculate MSE(Mean Squared Error), MAE (Mean Absolute Error) and MAPE (Mean Absolute Percentage Error), and compare the results."
   ]
  },
  {
   "cell_type": "markdown",
   "id": "f4522ad0-8094-4ff9-a1bf-f8ce1c4d375a",
   "metadata": {},
   "source": [
    "After execution the predictions, if  NaN values are generated, we delete the result for that combination"
   ]
  },
  {
   "cell_type": "code",
   "execution_count": 11,
   "id": "7162b1a0-1b2d-4aa5-921c-a04898e48d3c",
   "metadata": {},
   "outputs": [],
   "source": [
    "import numpy as np\n",
    "\n",
    "i = 0\n",
    "while i < len(neural_net_result_params):\n",
    "    if np.isnan(neural_net_result_params[i][\"Y_pred\"]).any():\n",
    "        print(f\"Handling NaN in Combination {neural_net_result_params[i]['Combination']}\")\n",
    "        del neural_net_result_params[i]\n",
    "    i += 1"
   ]
  },
  {
   "cell_type": "code",
   "execution_count": 8,
   "id": "576804b0-f4e1-4e7f-b69c-bcfb35dc3367",
   "metadata": {},
   "outputs": [],
   "source": [
    "from sklearn.metrics import mean_squared_error, mean_absolute_error\n",
    "\n",
    "for key, result in neural_net_result_params.items():\n",
    "    y_pred = result[\"Y_pred\"]\n",
    "    \n",
    "    mse = mean_squared_error(y_in, y_pred)\n",
    "    mae = mean_absolute_error(y_in, y_pred)\n",
    "    mape = sum(abs((y_true - y_pred_val) / y_true) for y_true, y_pred_val in zip(y_in, y_pred) if y_true != 0) / len(y_in)\n",
    "\n",
    "    result[\"MSE\"] = mse\n",
    "    result[\"MAE\"] = mae\n",
    "    result[\"MAPE\"] = mape\n",
    "    "
   ]
  },
  {
   "cell_type": "markdown",
   "id": "346b89d5-7321-46fc-9038-623c6938798e",
   "metadata": {},
   "source": [
    "For each combination of hiperparameters we now have values of MSE, MAE and MAPE. "
   ]
  },
  {
   "cell_type": "code",
   "execution_count": 13,
   "id": "9fc1d5e1-b8bf-42aa-b57d-42548b52d88e",
   "metadata": {},
   "outputs": [
    {
     "name": "stdout",
     "output_type": "stream",
     "text": [
      "0.004811684208189771\n"
     ]
    }
   ],
   "source": [
    "print(neural_net_result_params[0][\"MSE\"])"
   ]
  },
  {
   "cell_type": "code",
   "execution_count": null,
   "id": "3bdd65b5-0a99-498e-b2e5-84416ddae486",
   "metadata": {},
   "outputs": [],
   "source": [
    "We can compare the performance of the combinations of hyperparameter:"
   ]
  },
  {
   "cell_type": "code",
   "execution_count": 15,
   "id": "a51dae8f-29b7-47f3-8759-51064846c80b",
   "metadata": {},
   "outputs": [
    {
     "name": "stdout",
     "output_type": "stream",
     "text": [
      "Data frame saved to 'hyperparameters_performance_results.csv' with the following columns:\n",
      "   Combination  Number of Layers  Layer Structure  Num Epochs  Learning Rate  \\\n",
      "0            0                 4  [22, 64, 32, 1]         150         0.0005   \n",
      "1            1                 2          [22, 1]          80         0.0020   \n",
      "\n",
      "   Momentum Activation Function                 MAPE       MAE       MSE  \n",
      "0      0.95                tanh  [0.617592573727582]  0.028396  0.004812  \n",
      "1      0.85             sigmoid  [0.846990734960697]  0.041130  0.003942  \n"
     ]
    }
   ],
   "source": [
    "data = []\n",
    "for key, result in neural_net_result_params.items():\n",
    "    hyperparams = result[\"Hyperparameters\"]\n",
    "    data.append({\n",
    "        \"Combination\": key,\n",
    "        \"Number of Layers\": hyperparams[\"Number of Layers\"],\n",
    "        \"Layer Structure\": hyperparams[\"Layer Structure\"],\n",
    "        \"Num Epochs\": hyperparams[\"Num Epochs\"],\n",
    "        \"Learning Rate\": hyperparams[\"Learning Rate\"],\n",
    "        \"Momentum\": hyperparams[\"Momentum\"],\n",
    "        \"Activation Function\": hyperparams[\"Activation Function\"],\n",
    "        \"MAPE\": result[\"MAPE\"],\n",
    "        \"MAE\": result[\"MAE\"],\n",
    "        \"MSE\": result[\"MSE\"]\n",
    "    })\n",
    "\n",
    "hyperparameters_performance_results = pd.DataFrame(data)\n",
    "hyperparameters_performance_results.to_csv(\"hyperparameters_performance_results.csv\", index=False)\n",
    "print(\"Data frame saved to 'hyperparameters_performance_results.csv' with the following columns:\")\n",
    "print(hyperparameters_performance_results)\n"
   ]
  }
 ],
 "metadata": {
  "kernelspec": {
   "display_name": "Python (venv)",
   "language": "python",
   "name": "venv"
  },
  "language_info": {
   "codemirror_mode": {
    "name": "ipython",
    "version": 3
   },
   "file_extension": ".py",
   "mimetype": "text/x-python",
   "name": "python",
   "nbconvert_exporter": "python",
   "pygments_lexer": "ipython3",
   "version": "3.9.6"
  }
 },
 "nbformat": 4,
 "nbformat_minor": 5
}
