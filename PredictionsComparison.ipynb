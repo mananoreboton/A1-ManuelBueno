{
 "cells": [
  {
   "cell_type": "markdown",
   "id": "00f663d3-74aa-48bf-b79c-24f3e4a6ff5e",
   "metadata": {},
   "source": [
    "First, we call PreprocessData.select_and_analyze_dataset() to prepare the input dataset and save the train and test data to files."
   ]
  },
  {
   "cell_type": "code",
   "execution_count": 1,
   "id": "8e0eaa87-096f-4a30-b641-a9b98111760b",
   "metadata": {},
   "outputs": [
    {
     "name": "stdout",
     "output_type": "stream",
     "text": [
      "PreprocessData initialized.\n",
      "Reading data from ./data/kc_house_data.csv...\n",
      "Truncating data randomly to 2000 rows\n",
      "Selecting this columns from the data: ['date', 'bedrooms', 'bathrooms', 'sqft_living', 'sqft_lot', 'floors', 'waterfront', 'view', 'condition', 'grade', 'yr_built', 'lat', 'long', 'price']\n",
      "Removing missing values from columns: ['date', 'bedrooms', 'bathrooms', 'sqft_living', 'sqft_lot', 'floors', 'waterfront', 'view', 'condition', 'grade', 'yr_built', 'lat', 'long', 'price']\n",
      "Removing outliers values from columns: []\n",
      "Splitting data: train_data (1600) and test_data (400)\n",
      "Creating ColumnTransformer\n",
      "Fit train_data\n",
      "Transforming train_data and test_data\n",
      "Train matrix saved to ./data/transformed_train_matrix.csv\n",
      "Test matrix saved to ./data/transformed_test_matrix.csv\n",
      "Transformer saved to ./data/transformer.pkl\n",
      "Executed all subtasks of select and analyze dataset...\n"
     ]
    }
   ],
   "source": [
    "from PreprocessData import PreprocessData\n",
    "preprocessData = PreprocessData()\n",
    "preprocessData.select_and_analyze_dataset()"
   ]
  },
  {
   "cell_type": "code",
   "execution_count": null,
   "id": "1fab75d3-104b-4f19-9716-c0238cb892ee",
   "metadata": {},
   "outputs": [],
   "source": []
  }
 ],
 "metadata": {
  "kernelspec": {
   "display_name": "Python (venv)",
   "language": "python",
   "name": "venv"
  },
  "language_info": {
   "codemirror_mode": {
    "name": "ipython",
    "version": 3
   },
   "file_extension": ".py",
   "mimetype": "text/x-python",
   "name": "python",
   "nbconvert_exporter": "python",
   "pygments_lexer": "ipython3",
   "version": "3.9.6"
  }
 },
 "nbformat": 4,
 "nbformat_minor": 5
}
